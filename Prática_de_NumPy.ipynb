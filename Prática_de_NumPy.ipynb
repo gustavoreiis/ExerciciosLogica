{
  "nbformat": 4,
  "nbformat_minor": 0,
  "metadata": {
    "colab": {
      "provenance": [],
      "authorship_tag": "ABX9TyN0cX/CXHrayoafjAx1e9s+",
      "include_colab_link": true
    },
    "kernelspec": {
      "name": "python3",
      "display_name": "Python 3"
    },
    "language_info": {
      "name": "python"
    }
  },
  "cells": [
    {
      "cell_type": "markdown",
      "metadata": {
        "id": "view-in-github",
        "colab_type": "text"
      },
      "source": [
        "<a href=\"https://colab.research.google.com/github/gustavoreiis/ExerciciosLogica/blob/main/Pr%C3%A1tica_de_NumPy.ipynb\" target=\"_parent\"><img src=\"https://colab.research.google.com/assets/colab-badge.svg\" alt=\"Open In Colab\"/></a>"
      ]
    },
    {
      "cell_type": "code",
      "execution_count": 5,
      "metadata": {
        "id": "KZz9HklQ_evU"
      },
      "outputs": [],
      "source": []
    },
    {
      "cell_type": "markdown",
      "source": [
        "# Treino de NumPy — 42 exercícios hands-on\n",
        "\n",
        "**Objetivo:** praticar manipulação de arrays NumPy (criação, slicing, broadcasting, álgebra linear, estatística, datas, strides).\n",
        "**Regras:** use **apenas** NumPy (`import numpy as np`). Para reprodutibilidade, prefira `np.random.default_rng(seed)`.\n"
      ],
      "metadata": {
        "id": "1ZWqWMfa_nNc"
      }
    },
    {
      "cell_type": "code",
      "source": [
        "import numpy as np"
      ],
      "metadata": {
        "id": "s8YiFfNXAvzP"
      },
      "execution_count": 6,
      "outputs": []
    },
    {
      "cell_type": "markdown",
      "source": [
        "### 1. Vetor de zeros  _(fácil)_\n",
        "\n",
        "Crie um array 1D com 10 zeros usando NumPy e mostre o dtype e o shape."
      ],
      "metadata": {
        "id": "NDuTr4UiAQVs"
      }
    },
    {
      "cell_type": "code",
      "source": [
        "a = np.zeros(10)\n",
        "a.dtype\n"
      ],
      "metadata": {
        "colab": {
          "base_uri": "https://localhost:8080/"
        },
        "id": "K_2eOLdeAVAz",
        "outputId": "c53dd11f-dfa0-4fb0-cdc9-8796ca7ab56f"
      },
      "execution_count": 7,
      "outputs": [
        {
          "output_type": "execute_result",
          "data": {
            "text/plain": [
              "dtype('float64')"
            ]
          },
          "metadata": {},
          "execution_count": 7
        }
      ]
    },
    {
      "cell_type": "code",
      "source": [
        "a.shape"
      ],
      "metadata": {
        "colab": {
          "base_uri": "https://localhost:8080/"
        },
        "id": "hdl4PR7ZCKlL",
        "outputId": "f3f0f7f3-4f8b-4b5d-b36f-12fff25e6f6a"
      },
      "execution_count": 8,
      "outputs": [
        {
          "output_type": "execute_result",
          "data": {
            "text/plain": [
              "(10,)"
            ]
          },
          "metadata": {},
          "execution_count": 8
        }
      ]
    },
    {
      "cell_type": "markdown",
      "source": [
        "### 2. Vetor de uns  _(fácil)_\n",
        "\n",
        "Crie um array 1D com 10 uns e transforme-o em float64.\n"
      ],
      "metadata": {
        "id": "ElmeasLdCUYi"
      }
    },
    {
      "cell_type": "code",
      "source": [
        "b = np.ones(10)\n",
        "res = np.float64(b)\n",
        "res"
      ],
      "metadata": {
        "colab": {
          "base_uri": "https://localhost:8080/"
        },
        "id": "MGrN8o85CY69",
        "outputId": "b3137798-af71-4666-f8b0-0207f1e46d03"
      },
      "execution_count": 9,
      "outputs": [
        {
          "output_type": "execute_result",
          "data": {
            "text/plain": [
              "array([1., 1., 1., 1., 1., 1., 1., 1., 1., 1.])"
            ]
          },
          "metadata": {},
          "execution_count": 9
        }
      ]
    },
    {
      "cell_type": "markdown",
      "source": [
        "### 3. Sequência 0–9  _(fácil)_\n",
        "\n",
        "Crie um array com os inteiros de 0 a 9 (inclusive)."
      ],
      "metadata": {
        "id": "NqCdn3OAD3gy"
      }
    },
    {
      "cell_type": "code",
      "source": [
        "c = np.arange(10)\n",
        "c"
      ],
      "metadata": {
        "colab": {
          "base_uri": "https://localhost:8080/"
        },
        "id": "FFT7cLOFECWh",
        "outputId": "cbb672b0-9ab5-44c8-f2ce-9d9021066860"
      },
      "execution_count": 10,
      "outputs": [
        {
          "output_type": "execute_result",
          "data": {
            "text/plain": [
              "array([0, 1, 2, 3, 4, 5, 6, 7, 8, 9])"
            ]
          },
          "metadata": {},
          "execution_count": 10
        }
      ]
    },
    {
      "cell_type": "markdown",
      "source": [
        "### 4. Matriz 3×3 com 0…8  _(fácil)_\n",
        "\n",
        "Crie um array 3×3 com os valores 0…8 (reshape)."
      ],
      "metadata": {
        "id": "6Nj6G8RUEdo1"
      }
    },
    {
      "cell_type": "code",
      "source": [
        "d = np.arange(9).reshape(3, 3)\n",
        "d"
      ],
      "metadata": {
        "colab": {
          "base_uri": "https://localhost:8080/"
        },
        "id": "qaEt4wY2EhH-",
        "outputId": "f17808d2-5fe4-44fc-b471-040a042962d2"
      },
      "execution_count": 11,
      "outputs": [
        {
          "output_type": "execute_result",
          "data": {
            "text/plain": [
              "array([[0, 1, 2],\n",
              "       [3, 4, 5],\n",
              "       [6, 7, 8]])"
            ]
          },
          "metadata": {},
          "execution_count": 11
        }
      ]
    },
    {
      "cell_type": "markdown",
      "source": [
        "### 5. Índices não zero  _(fácil)_\n",
        "\n",
        "Dado o vetor `v = np.array([1,2,0,0,4,0])`, encontre os índices dos elementos não nulos."
      ],
      "metadata": {
        "id": "CPRSG69RFzHp"
      }
    },
    {
      "cell_type": "code",
      "source": [
        "v = np.array([1,2,0,0,4,0])\n",
        "np.nonzero(v)\n",
        "# Exibe o índice dos valores não nulos"
      ],
      "metadata": {
        "colab": {
          "base_uri": "https://localhost:8080/"
        },
        "id": "aRnDAS7LF_bd",
        "outputId": "d558791d-131b-4683-99fd-60a10ec98b56"
      },
      "execution_count": 12,
      "outputs": [
        {
          "output_type": "execute_result",
          "data": {
            "text/plain": [
              "(array([0, 1, 4]),)"
            ]
          },
          "metadata": {},
          "execution_count": 12
        }
      ]
    },
    {
      "cell_type": "markdown",
      "source": [
        "### 6. Linspace  _(fácil)_\n",
        "\n",
        "Crie um vetor de 12 pontos igualmente espaçados no intervalo [0, 1]."
      ],
      "metadata": {
        "id": "TCy1uLDAIeJz"
      }
    },
    {
      "cell_type": "code",
      "source": [
        "e = np.linspace(0, 1, 12)\n",
        "e"
      ],
      "metadata": {
        "colab": {
          "base_uri": "https://localhost:8080/"
        },
        "id": "GdgWUkifIhSa",
        "outputId": "caa1fc9f-f185-43fa-a875-6f0f43c04354"
      },
      "execution_count": 13,
      "outputs": [
        {
          "output_type": "execute_result",
          "data": {
            "text/plain": [
              "array([0.        , 0.09090909, 0.18181818, 0.27272727, 0.36363636,\n",
              "       0.45454545, 0.54545455, 0.63636364, 0.72727273, 0.81818182,\n",
              "       0.90909091, 1.        ])"
            ]
          },
          "metadata": {},
          "execution_count": 13
        }
      ]
    },
    {
      "cell_type": "markdown",
      "source": [
        "### 7. Identidade 5×5  _(fácil)_\n",
        "\n",
        "Crie uma matriz identidade de ordem 5."
      ],
      "metadata": {
        "id": "UlCARDH5I1Gy"
      }
    },
    {
      "cell_type": "code",
      "source": [
        "f = np.eye(5)\n",
        "f"
      ],
      "metadata": {
        "colab": {
          "base_uri": "https://localhost:8080/"
        },
        "id": "YpfJLLWeI5DM",
        "outputId": "649c1cc4-ae8c-49ae-b1b9-d394d0985260"
      },
      "execution_count": 14,
      "outputs": [
        {
          "output_type": "execute_result",
          "data": {
            "text/plain": [
              "array([[1., 0., 0., 0., 0.],\n",
              "       [0., 1., 0., 0., 0.],\n",
              "       [0., 0., 1., 0., 0.],\n",
              "       [0., 0., 0., 1., 0.],\n",
              "       [0., 0., 0., 0., 1.]])"
            ]
          },
          "metadata": {},
          "execution_count": 14
        }
      ]
    },
    {
      "cell_type": "markdown",
      "source": [
        "### 8. Aleatórios 3×3×3  _(fácil)_\n",
        "\n",
        "Gere um array 3×3×3 com valores aleatórios uniformes em [0,1). Use `np.random.default_rng(42)`."
      ],
      "metadata": {
        "id": "K6NSb_eIJARj"
      }
    },
    {
      "cell_type": "code",
      "source": [
        "rng = np.random.default_rng(42)\n",
        "g = rng.random((3, 3, 3))\n",
        "g"
      ],
      "metadata": {
        "colab": {
          "base_uri": "https://localhost:8080/"
        },
        "id": "7YYkm36CJMjx",
        "outputId": "0ceb2904-17d5-4bda-d0f3-fdcc3dd9d57c"
      },
      "execution_count": 15,
      "outputs": [
        {
          "output_type": "execute_result",
          "data": {
            "text/plain": [
              "array([[[0.77395605, 0.43887844, 0.85859792],\n",
              "        [0.69736803, 0.09417735, 0.97562235],\n",
              "        [0.7611397 , 0.78606431, 0.12811363]],\n",
              "\n",
              "       [[0.45038594, 0.37079802, 0.92676499],\n",
              "        [0.64386512, 0.82276161, 0.4434142 ],\n",
              "        [0.22723872, 0.55458479, 0.06381726]],\n",
              "\n",
              "       [[0.82763117, 0.6316644 , 0.75808774],\n",
              "        [0.35452597, 0.97069802, 0.89312112],\n",
              "        [0.7783835 , 0.19463871, 0.466721  ]]])"
            ]
          },
          "metadata": {},
          "execution_count": 15
        }
      ]
    },
    {
      "cell_type": "markdown",
      "source": [
        "### 9. Min/Max  _(fácil)_\n",
        "\n",
        "Crie uma matriz 10×10 de aleatórios uniformes e mostre o valor mínimo e máximo."
      ],
      "metadata": {
        "id": "4MW5N1YeL45c"
      }
    },
    {
      "cell_type": "code",
      "source": [
        "h = rng.random((10, 10))\n",
        "print(\"Max: \", h.max())\n",
        "print(\"Min: \", h.min())\n"
      ],
      "metadata": {
        "id": "cw0fjdAPL7ZH",
        "outputId": "ee55d4ab-da1d-4ed2-e11d-f7f9cd1c3ded",
        "colab": {
          "base_uri": "https://localhost:8080/"
        }
      },
      "execution_count": 19,
      "outputs": [
        {
          "output_type": "stream",
          "name": "stdout",
          "text": [
            "Max:  0.9795706805865927\n",
            "Min:  0.017836783976987736\n"
          ]
        }
      ]
    },
    {
      "cell_type": "markdown",
      "source": [
        "### 10. Padronização 1D  _(fácil)_\n",
        "\n",
        "Dado `x = [1,2,3,4,5]`, crie um array float e normalize para média 0 e desvio 1."
      ],
      "metadata": {
        "id": "_UjJ26V-ufsc"
      }
    },
    {
      "cell_type": "code",
      "source": [
        "i = np.array([1, 2, 3, 4, 5], dtype=float)\n",
        "\n",
        "media = np.mean(i)\n",
        "desvio = np.std(i)\n",
        "\n",
        "ni = (i - media) / desvio\n",
        "\n",
        "print(i)\n",
        "print(ni)"
      ],
      "metadata": {
        "id": "hBZ_Ik62vnyO",
        "outputId": "a381c140-4342-4cd6-d039-4ab0df3a2b05",
        "colab": {
          "base_uri": "https://localhost:8080/"
        }
      },
      "execution_count": 24,
      "outputs": [
        {
          "output_type": "stream",
          "name": "stdout",
          "text": [
            "[1. 2. 3. 4. 5.]\n",
            "[-1.41421356 -0.70710678  0.          0.70710678  1.41421356]\n"
          ]
        }
      ]
    },
    {
      "cell_type": "markdown",
      "source": [],
      "metadata": {
        "id": "iviwWjQ0wm4J"
      }
    },
    {
      "cell_type": "markdown",
      "source": [
        "### 11. Conversão de tipos  _(fácil)_\n",
        "\n",
        "Converta `np.array([1,2,3])` (int32) para float32 e depois para int64."
      ],
      "metadata": {
        "id": "j6SBjbpNwnLC"
      }
    },
    {
      "cell_type": "code",
      "source": [
        "j = np.array([1, 2, 3], dtype=np.int32)\n",
        "print(j)\n",
        "\n",
        "jfloat = j.astype(np.float32)\n",
        "print(jfloat)\n",
        "\n",
        "jint64 = jfloat.astype(np.int64)\n",
        "print(jint64)"
      ],
      "metadata": {
        "id": "DEy3Bsh9wzdl",
        "outputId": "494702a9-ba53-4acf-d1f9-eadef9d53542",
        "colab": {
          "base_uri": "https://localhost:8080/"
        }
      },
      "execution_count": 26,
      "outputs": [
        {
          "output_type": "stream",
          "name": "stdout",
          "text": [
            "[1 2 3]\n",
            "[1. 2. 3.]\n",
            "[1 2 3]\n"
          ]
        }
      ]
    },
    {
      "cell_type": "markdown",
      "source": [
        "### 12. Clipping  _(fácil)_\n",
        "\n",
        "Dado `a = [2, 5, 7, 1, 9]`, limite os valores ao intervalo [0,5] (valores acima de 5 tornam-se 5)."
      ],
      "metadata": {
        "id": "emdcmeS0x87-"
      }
    },
    {
      "cell_type": "code",
      "source": [
        "k = np.array([2, 5, 7, 1, 9])\n",
        "k = np.clip(k, 0, 5)\n",
        "\n",
        "k"
      ],
      "metadata": {
        "id": "vWCSH41Hx-Qi",
        "outputId": "c268bae0-17dd-48d9-deb9-2fb7aedf27cc",
        "colab": {
          "base_uri": "https://localhost:8080/"
        }
      },
      "execution_count": 27,
      "outputs": [
        {
          "output_type": "execute_result",
          "data": {
            "text/plain": [
              "array([2, 5, 5, 1, 5])"
            ]
          },
          "metadata": {},
          "execution_count": 27
        }
      ]
    },
    {
      "cell_type": "markdown",
      "source": [
        "### 13. Inversão  _(fácil)_\n",
        "\n",
        "Crie um vetor de 0 a 9 e inverta a ordem (sem usar `[::-1]`)."
      ],
      "metadata": {
        "id": "bcTW7dLRyXUf"
      }
    },
    {
      "cell_type": "code",
      "source": [
        "l = np.arange(10)\n",
        "print(l)\n",
        "l = np.flip(l)\n",
        "print(l)"
      ],
      "metadata": {
        "id": "ts0_j7NlyZUw",
        "outputId": "bbc77210-8ff0-4df9-c397-cb98c59881f9",
        "colab": {
          "base_uri": "https://localhost:8080/"
        }
      },
      "execution_count": 30,
      "outputs": [
        {
          "output_type": "stream",
          "name": "stdout",
          "text": [
            "[0 1 2 3 4 5 6 7 8 9]\n",
            "[9 8 7 6 5 4 3 2 1 0]\n"
          ]
        }
      ]
    },
    {
      "cell_type": "markdown",
      "source": [
        "### 14. Empilhamento  _(fácil)_\n",
        "\n",
        "Dado `a = [1,2,3]` e `b = [4,5,6]`, empilhe horizontal e verticalmente."
      ],
      "metadata": {
        "id": "6La41g9Iyumj"
      }
    },
    {
      "cell_type": "code",
      "source": [
        "m = np.array([1, 2, 3])\n",
        "n = np.array([4, 5, 6])\n",
        "\n",
        "vertical = np.vstack((m, n))\n",
        "print(vertical)\n",
        "\n",
        "horizontal = np.hstack((m, n))\n",
        "print(horizontal)"
      ],
      "metadata": {
        "id": "TQMh3W1Cyw4I",
        "outputId": "110c9230-744e-4226-9d88-97fd407cd0ed",
        "colab": {
          "base_uri": "https://localhost:8080/"
        }
      },
      "execution_count": 32,
      "outputs": [
        {
          "output_type": "stream",
          "name": "stdout",
          "text": [
            "[[1 2 3]\n",
            " [4 5 6]]\n",
            "[1 2 3 4 5 6]\n"
          ]
        }
      ]
    },
    {
      "cell_type": "markdown",
      "source": [
        "### 15. Diagonal  _(fácil)_\n",
        "\n",
        "Crie uma matriz 4×4 com a diagonal principal igual a 5 e as demais entradas zero."
      ],
      "metadata": {
        "id": "m95INw14zWAq"
      }
    },
    {
      "cell_type": "code",
      "source": [],
      "metadata": {
        "id": "09QWYStJ0pd4"
      },
      "execution_count": null,
      "outputs": []
    }
  ]
}